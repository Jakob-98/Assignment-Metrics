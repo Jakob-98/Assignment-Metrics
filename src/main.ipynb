{
 "cells": [
  {
   "cell_type": "code",
   "execution_count": 179,
   "metadata": {},
   "outputs": [],
   "source": [
    "import os\n",
    "import json\n",
    "import glob\n",
    "import csv\n",
    "import math\n",
    "import pandas as pd\n",
    "from io import StringIO\n",
    "from pathlib import Path\n",
    "from scipy.stats import spearmanr\n",
    "import seaborn as sns"
   ]
  },
  {
   "cell_type": "code",
   "execution_count": 108,
   "metadata": {},
   "outputs": [],
   "source": [
    "jars = glob.glob(\"../versions/*/*.jar\")\n",
    "libs = glob.glob(\"../versions/*/lib\")\n",
    "versions =  glob.glob(\"../versions/*\")\n",
    "versions.sort()\n",
    "versions_f = [v.split(\"\\\\\")[-1] for v in versions]"
   ]
  },
  {
   "cell_type": "code",
   "execution_count": 109,
   "metadata": {},
   "outputs": [],
   "source": [
    "layer_ex = dict()\n",
    "ckjm_ex = dict()\n",
    "for j, l, v, vf in zip(jars, libs, versions, versions_f): \n",
    "    process = os.popen(f\"java -jar {Path('../layer_extractor.jar')} {j}\")\n",
    "    # layer_ex[vf] = process.read()\n",
    "    layers = pd.read_csv(StringIO(process.read()))\n",
    "    process.close()\n",
    "    if(\"5.5.13.3\" in j):\n",
    "        # read csv\n",
    "        ckjm_vals = pd.read_csv(Path(\"../versions/5.5.13.3/ck-metrics-5.5.13.3.csv\"))\n",
    "    else:\n",
    "        process = os.popen(f\"java -jar {Path('../ckjm_adapted.jar')} {j} {l}\")\n",
    "        ckjm_vals = pd.read_csv(StringIO(process.read()))\n",
    "    \n",
    "    ckjm_ex[vf] = ckjm_vals.merge(layers, on='ClassName')\n",
    "    process.close()"
   ]
  },
  {
   "cell_type": "code",
   "execution_count": 118,
   "metadata": {},
   "outputs": [
    {
     "name": "stdout",
     "output_type": "stream",
     "text": [
      "<generator object <genexpr> at 0x7f6711f7da20>\n"
     ]
    }
   ],
   "source": [
    "num_classes = [len(a) for a in ckjm_ex.values()]\n",
    "num_classes"
   ]
  },
  {
   "cell_type": "code",
   "execution_count": 111,
   "metadata": {},
   "outputs": [],
   "source": [
    "def fwbr_n(CBO, DIT, WMC, RFC, LCOM):\n",
    " return -(9.023 * math.log(CBO + 1) + \\\n",
    " 3.945 * math.log(DIT + 1) - \\\n",
    " 0.678 * math.log(WMC + 1) - \\\n",
    " 0.826 * math.log(RFC + 1) - \\\n",
    " 0.378 * math.log(LCOM + 1))"
   ]
  },
  {
   "cell_type": "code",
   "execution_count": 112,
   "metadata": {},
   "outputs": [],
   "source": [
    "cols = ['ClassName', 'WMC', 'DIT', 'NOC', 'CBO', 'RFC', 'LCOM', 'CA', 'NPM', 'Layer']\n",
    "ckjm_dict = {k.split('/')[-1]:v for k, v in ckjm_ex.items()}"
   ]
  },
  {
   "cell_type": "code",
   "execution_count": 126,
   "metadata": {},
   "outputs": [
    {
     "name": "stdout",
     "output_type": "stream",
     "text": [
      "5.0.6, 566\n",
      "5.1.3, 587\n",
      "5.2.1, 678\n",
      "5.3.4, 638\n",
      "5.4.5, 933\n",
      "5.5.13.3, 827\n"
     ]
    }
   ],
   "source": [
    "# print(ckjm_dict)\n",
    "for x in ckjm_dict.keys():\n",
    "    print(f\"{x}, {len(ckjm_dict[x])}\")"
   ]
  },
  {
   "cell_type": "code",
   "execution_count": 114,
   "metadata": {},
   "outputs": [
    {
     "name": "stdout",
     "output_type": "stream",
     "text": [
      "versie 5.0.6\n",
      "0.0 - 176.0\n",
      "1.0 - 6.0\n",
      "0.0 - 42.0\n",
      "0.0 - 86.0\n",
      "0.0 - 436.0\n",
      "0.0 - 9082.0\n",
      "0.0 - 151.0\n",
      "0.0 - 158.0\n",
      "0.0 - 13.0\n",
      "versie 5.1.3\n",
      "0.0 - 176.0\n",
      "1.0 - 6.0\n",
      "0.0 - 31.0\n",
      "0.0 - 86.0\n",
      "0.0 - 438.0\n",
      "0.0 - 9533.0\n",
      "0.0 - 150.0\n",
      "0.0 - 158.0\n",
      "0.0 - 12.0\n",
      "versie 5.2.1\n",
      "0.0 - 195.0\n",
      "1.0 - 6.0\n",
      "0.0 - 32.0\n",
      "0.0 - 89.0\n",
      "0.0 - 455.0\n",
      "0.0 - 11261.0\n",
      "0.0 - 160.0\n",
      "0.0 - 164.0\n",
      "0.0 - 12.0\n",
      "versie 5.3.4\n",
      "0.0 - 181.0\n",
      "1.0 - 6.0\n",
      "0.0 - 31.0\n",
      "0.0 - 86.0\n",
      "0.0 - 438.0\n",
      "0.0 - 9533.0\n",
      "0.0 - 157.0\n",
      "0.0 - 163.0\n",
      "0.0 - 12.0\n",
      "versie 5.4.5\n",
      "0.0 - 249.0\n",
      "1.0 - 6.0\n",
      "0.0 - 34.0\n",
      "0.0 - 102.0\n",
      "0.0 - 561.0\n",
      "0.0 - 17152.0\n",
      "0.0 - 188.0\n",
      "0.0 - 211.0\n",
      "0.0 - 18.0\n",
      "versie 5.5.13.3\n",
      "0.0 - 208.0\n",
      "1.0 - 6.0\n",
      "0.0 - 34.0\n",
      "0.0 - 94.0\n",
      "0.0 - 499.0\n",
      "0.0 - 12393.0\n",
      "0.0 - 182.0\n",
      "0.0 - 170.0\n",
      "0.0 - 17.0\n"
     ]
    }
   ],
   "source": [
    "for version in ckjm_dict:\n",
    "    print(f\"versie {version}\")\n",
    "    for metric in ckjm_dict[version].drop('ClassName', axis=1):\n",
    "        # print(metric)\n",
    "        print(f\"{ckjm_dict[version][metric].astype('float64').min()} - {ckjm_dict[version][metric].astype('float64').max()}\")\n",
    "        # print(version, metric)"
   ]
  },
  {
   "cell_type": "code",
   "execution_count": 127,
   "metadata": {},
   "outputs": [],
   "source": [
    "def fwbr_n(CBO, DIT, WMC, RFC, LCOM):\n",
    " return -(9.023 * math.log(CBO + 1) + \\\n",
    " 3.945 * math.log(DIT + 1) - \\\n",
    " 0.678 * math.log(WMC + 1) - \\\n",
    " 0.826 * math.log(RFC + 1) - \\\n",
    " 0.378 * math.log(LCOM + 1))\n",
    "\n",
    "def apply_fwbr_n(row):\n",
    "    return fwbr_n(row['CBO'], row['DIT'], row['WMC'], row['RFC'], row['LCOM'])\n",
    "\n",
    "def fwbr(CBO, DIT, WMC, RFC, LCOM, NOC):\n",
    " return -(8.753 * math.log(CBO + 1) + \\\n",
    " 2.505 * math.log(DIT + 1) - \\\n",
    " 1.922* math.log(WMC + 1) - \\\n",
    " 0.892 * math.log(RFC + 1) - \\\n",
    " 0.399 * math.log(LCOM + 1) - \\\n",
    " 1.080 * math.log(NOC + 1))\n",
    "\n",
    "def apply_fwbr(row):\n",
    "    return fwbr(row['CBO'], row['DIT'], row['WMC'], row['RFC'], row['LCOM'], row['NOC'])\n",
    "\n",
    "\n",
    "for version in ckjm_dict:\n",
    "    for metric in ['WMC', 'DIT', 'NOC', 'CBO', 'RFC', 'LCOM', 'CA', 'NPM']:\n",
    "        ckjm_dict[version][metric] = pd.to_numeric(ckjm_dict[version][metric])\n",
    "    ckjm_dict[version]['fwbr_n'] = ckjm_dict[version].apply(lambda row: apply_fwbr_n(row), axis=1)\n",
    "    ckjm_dict[version]['fwbr'] = ckjm_dict[version].apply(lambda row: apply_fwbr(row), axis=1)\n",
    "\n"
   ]
  },
  {
   "cell_type": "code",
   "execution_count": 151,
   "metadata": {},
   "outputs": [
    {
     "name": "stdout",
     "output_type": "stream",
     "text": [
      "5.0.6\n",
      "             fwbr      fwbr_n\n",
      "count  566.000000  566.000000\n",
      "mean    -8.294404  -12.815970\n",
      "std      6.775526    7.546961\n",
      "min    -24.003512  -32.788817\n",
      "25%    -13.682906  -18.262294\n",
      "50%     -8.429503  -13.113511\n",
      "75%     -3.447274   -7.611325\n",
      "max      7.567341    2.876432\n",
      "5.1.3\n",
      "             fwbr      fwbr_n\n",
      "count  587.000000  587.000000\n",
      "mean    -8.173623  -12.635670\n",
      "std      6.814923    7.581979\n",
      "min    -24.003512  -32.747512\n",
      "25%    -13.573729  -18.052383\n",
      "50%     -8.259729  -12.870994\n",
      "75%     -3.228774   -7.283921\n",
      "max      7.567341    2.876432\n",
      "5.2.1\n",
      "             fwbr      fwbr_n\n",
      "count  678.000000  678.000000\n",
      "mean    -7.959590  -12.419324\n",
      "std      6.842015    7.587099\n",
      "min    -24.172348  -32.915462\n",
      "25%    -13.342388  -17.708785\n",
      "50%     -7.984426  -12.658591\n",
      "75%     -3.228774   -7.171107\n",
      "max      7.567341    2.888269\n",
      "5.3.4\n",
      "             fwbr      fwbr_n\n",
      "count  638.000000  638.000000\n",
      "mean    -8.034669  -12.545637\n",
      "std      6.799050    7.527440\n",
      "min    -24.003512  -32.747512\n",
      "25%    -13.482771  -17.867010\n",
      "50%     -8.243284  -12.929859\n",
      "75%     -3.228774   -7.171107\n",
      "max      7.567341    2.888269\n",
      "5.4.5\n",
      "             fwbr      fwbr_n\n",
      "count  933.000000  933.000000\n",
      "mean    -7.565399  -11.927395\n",
      "std      6.741344    7.504155\n",
      "min    -26.498380  -34.032410\n",
      "25%    -12.766396  -17.221164\n",
      "50%     -7.281030  -11.910540\n",
      "75%     -2.725063   -6.823018\n",
      "max      9.097251    3.937465\n",
      "5.5.13.3\n",
      "             fwbr      fwbr_n\n",
      "count  827.000000  827.000000\n",
      "mean    -7.568056  -11.974985\n",
      "std      6.865234    7.626346\n",
      "min    -24.954791  -33.285971\n",
      "25%    -13.114350  -17.469137\n",
      "50%     -7.357061  -11.977501\n",
      "75%     -2.400941   -6.547196\n",
      "max      9.097251    3.937465\n"
     ]
    }
   ],
   "source": [
    "for x in ckjm_dict.keys():\n",
    "    print(x)\n",
    "    print(ckjm_dict[x][['fwbr', 'fwbr_n']].describe())\n",
    "    "
   ]
  },
  {
   "cell_type": "code",
   "execution_count": 176,
   "metadata": {},
   "outputs": [
    {
     "data": {
      "image/png": "[encoded data removed]",
      "text/plain": [
       "<Figure size 432x288 with 1 Axes>"
      ]
     },
     "metadata": {
      "needs_background": "light"
     },
     "output_type": "display_data"
    },
    {
     "data": {
      "image/png": "[encoded data removed]",
      "text/plain": [
       "<Figure size 432x288 with 1 Axes>"
      ]
     },
     "metadata": {
      "needs_background": "light"
     },
     "output_type": "display_data"
    },
    {
     "data": {
      "image/png": "[encoded data removed]",
      "text/plain": [
       "<Figure size 432x288 with 1 Axes>"
      ]
     },
     "metadata": {
      "needs_background": "light"
     },
     "output_type": "display_data"
    },
    {
     "data": {
      "image/png": "[encoded data removed]",
      "text/plain": [
       "<Figure size 432x288 with 1 Axes>"
      ]
     },
     "metadata": {
      "needs_background": "light"
     },
     "output_type": "display_data"
    },
    {
     "data": {
      "image/png": "[encoded data removed]",
      "text/plain": [
       "<Figure size 432x288 with 1 Axes>"
      ]
     },
     "metadata": {
      "needs_background": "light"
     },
     "output_type": "display_data"
    },
    {
     "data": {
      "image/png": "[encoded data removed]",
      "text/plain": [
       "<Figure size 432x288 with 1 Axes>"
      ]
     },
     "metadata": {
      "needs_background": "light"
     },
     "output_type": "display_data"
    }
   ],
   "source": [
    "for x in ckjm_dict:\n",
    "   ckjm_dict[x]\n",
    "   ckjm_dict[x][['layer', 'fwbr', 'fwbr_n']].plot(kind='hist')\n",
    "    "
   ]
  },
  {
   "cell_type": "code",
   "execution_count": 188,
   "metadata": {},
   "outputs": [
    {
     "name": "stdout",
     "output_type": "stream",
     "text": [
      "version, rho, p\n",
      "5.0.6, -0.4340689492087184, 2.0766686364108052e-27\n",
      "5.1.3, -0.42371822177378177, 5.623657431097273e-27\n",
      "5.2.1, -0.47454108374820425, 2.2723902143425045e-39\n",
      "5.3.4, -0.4484093704117223, 6.971263385015753e-33\n",
      "5.4.5, -0.547426411536562, 4.620876328706001e-74\n",
      "5.5.13.3, -0.5725280889098705, 3.3957603624454266e-73\n"
     ]
    }
   ],
   "source": [
    "# question 4, spearman\n",
    "print('version, rho, p')\n",
    "for x in ckjm_dict:\n",
    "    rho, p = spearmanr(ckjm_dict[x]['layer'], ckjm_dict[x]['fwbr'])\n",
    "    print(f\"{x}, {rho}, {p}\")"
   ]
  },
  {
   "cell_type": "code",
   "execution_count": 185,
   "metadata": {},
   "outputs": [
    {
     "data": {
      "text/plain": [
       "<AxesSubplot:>"
      ]
     },
     "execution_count": 185,
     "metadata": {},
     "output_type": "execute_result"
    },
    {
     "data": {
      "image/png": "[encoded data removed]",
      "text/plain": [
       "<Figure size 432x288 with 2 Axes>"
      ]
     },
     "metadata": {
      "needs_background": "light"
     },
     "output_type": "display_data"
    }
   ],
   "source": [
    "\n",
    "corr = ckjm_dict[x][['layer', 'fwbr', 'fwbr_n']].corr(method = 'spearman')\n",
    "\n",
    "sns.heatmap(corr, annot = True)"
   ]
  }
 ],
 "metadata": {
  "interpreter": {
   "hash": "21eaef655b2c09950541250f074b3bed15f6484116d3ae43e9be17c5f7ce2ad8"
  },
  "kernelspec": {
   "display_name": "Python 3.10.1 64-bit",
   "language": "python",
   "name": "python3"
  },
  "language_info": {
   "codemirror_mode": {
    "name": "ipython",
    "version": 3
   },
   "file_extension": ".py",
   "mimetype": "text/x-python",
   "name": "python",
   "nbconvert_exporter": "python",
   "pygments_lexer": "ipython3",
   "version": "3.7.3"
  },
  "orig_nbformat": 4
 },
 "nbformat": 4,
 "nbformat_minor": 2
}
