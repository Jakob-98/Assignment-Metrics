{
 "cells": [
  {
   "cell_type": "code",
   "execution_count": 77,
   "metadata": {},
   "outputs": [],
   "source": [
    "import os\n",
    "import json\n",
    "import glob\n",
    "import csv\n",
    "import math\n",
    "import pandas as pd\n",
    "from io import StringIO"
   ]
  },
  {
   "cell_type": "code",
   "execution_count": 60,
   "metadata": {},
   "outputs": [],
   "source": [
    "jars = glob.glob(\"../versions/*/*.jar\")\n",
    "libs = glob.glob(\"../versions/*/lib\")\n",
    "versions =  glob.glob(\"../versions/*\")\n",
    "versions_f = [v.split(\"\\\\\")[-1] for v in versions]"
   ]
  },
  {
   "cell_type": "code",
   "execution_count": 66,
   "metadata": {},
   "outputs": [],
   "source": [
    "layer_ex = dict()\n",
    "ckjm_ex = dict()\n",
    "for j, l, v, vf in zip(jars, libs, versions, versions_f): \n",
    "    process = os.popen(\"java -jar ..\\layer_extractor.jar {j}\".format(j=j))\n",
    "    layer_ex[vf] = process.read()\n",
    "    process.close()\n",
    "    process = os.popen(\"java -jar ..\\ckjm_adapted.jar {j} {l}\".format(j=j, l=l))\n",
    "    ckjm_ex[vf] = process.read()\n",
    "    process.close()"
   ]
  },
  {
   "cell_type": "code",
   "execution_count": 69,
   "metadata": {},
   "outputs": [
    {
     "data": {
      "text/plain": [
       "[568, 589, 640, 680, 829, 1]"
      ]
     },
     "execution_count": 69,
     "metadata": {},
     "output_type": "execute_result"
    }
   ],
   "source": [
    "num_classes = [len(a.split('\\n')) for a in ckjm_ex.values()]\n",
    "num_classes"
   ]
  },
  {
   "cell_type": "code",
   "execution_count": 73,
   "metadata": {},
   "outputs": [],
   "source": [
    "def fwbr_n(CBO, DIT, WMC, RFC, LCOM):\n",
    " return -(9.023 * math.log(CBO + 1) + \\\n",
    " 3.945 * math.log(DIT + 1) - \\\n",
    " 0.678 * math.log(WMC + 1) - \\\n",
    " 0.826 * math.log(RFC + 1) - \\\n",
    " 0.378 * math.log(LCOM + 1))"
   ]
  },
  {
   "cell_type": "code",
   "execution_count": 88,
   "metadata": {},
   "outputs": [],
   "source": [
    "cols = ['ClassName', 'WMC', 'DIT', 'NOC', 'CBO', 'RFC', 'LCOM', 'CA', 'NPM']\n",
    "ckjm_dict = {k:pd.DataFrame([x.split(',') for x in v.split('\\n')][1:], columns=cols) for k, v in ckjm_ex.items()}"
   ]
  },
  {
   "cell_type": "code",
   "execution_count": 89,
   "metadata": {},
   "outputs": [
    {
     "data": {
      "text/plain": [
       "0        10\n",
       "1        13\n",
       "2         3\n",
       "3         1\n",
       "4         8\n",
       "       ... \n",
       "562       3\n",
       "563      10\n",
       "564     176\n",
       "565      36\n",
       "566    None\n",
       "Name: WMC, Length: 567, dtype: object"
      ]
     },
     "execution_count": 89,
     "metadata": {},
     "output_type": "execute_result"
    }
   ],
   "source": [
    "ckjm_dict['5.0.6']['WMC']"
   ]
  },
  {
   "cell_type": "code",
   "execution_count": 99,
   "metadata": {},
   "outputs": [
    {
     "name": "stdout",
     "output_type": "stream",
     "text": [
      "5.0.6 WMC 176.0\n",
      "5.0.6 DIT 5.0\n",
      "5.0.6 NOC 42.0\n",
      "5.0.6 CBO 86.0\n",
      "5.0.6 RFC 436.0\n",
      "5.0.6 LCOM 9082.0\n",
      "5.0.6 CA 151.0\n",
      "5.0.6 NPM 158.0\n",
      "5.1.3 WMC 176.0\n",
      "5.1.3 DIT 5.0\n",
      "5.1.3 NOC 31.0\n",
      "5.1.3 CBO 86.0\n",
      "5.1.3 RFC 438.0\n",
      "5.1.3 LCOM 9533.0\n",
      "5.1.3 CA 150.0\n",
      "5.1.3 NPM 158.0\n",
      "5.2.1 WMC 181.0\n",
      "5.2.1 DIT 5.0\n",
      "5.2.1 NOC 31.0\n",
      "5.2.1 CBO 86.0\n",
      "5.2.1 RFC 438.0\n",
      "5.2.1 LCOM 9533.0\n",
      "5.2.1 CA 157.0\n",
      "5.2.1 NPM 163.0\n",
      "5.3.4 WMC 195.0\n",
      "5.3.4 DIT 5.0\n",
      "5.3.4 NOC 32.0\n",
      "5.3.4 CBO 89.0\n",
      "5.3.4 RFC 455.0\n",
      "5.3.4 LCOM 11261.0\n",
      "5.3.4 CA 160.0\n",
      "5.3.4 NPM 164.0\n",
      "5.4.5 WMC 208.0\n",
      "5.4.5 DIT 5.0\n",
      "5.4.5 NOC 34.0\n",
      "5.4.5 CBO 94.0\n",
      "5.4.5 RFC 499.0\n",
      "5.4.5 LCOM 12393.0\n",
      "5.4.5 CA 182.0\n",
      "5.4.5 NPM 170.0\n"
     ]
    }
   ],
   "source": [
    "for version in versions_f[:-1]:\n",
    "    for metric in cols[1:]:\n",
    "        print(version, metric, ckjm_dict[version][metric].astype('float64').max() - ckjm_dict[version][metric].astype('float64').min())"
   ]
  },
  {
   "cell_type": "code",
   "execution_count": null,
   "metadata": {},
   "outputs": [],
   "source": []
  }
 ],
 "metadata": {
  "interpreter": {
   "hash": "21eaef655b2c09950541250f074b3bed15f6484116d3ae43e9be17c5f7ce2ad8"
  },
  "kernelspec": {
   "display_name": "Python 3.10.1 64-bit",
   "language": "python",
   "name": "python3"
  },
  "language_info": {
   "codemirror_mode": {
    "name": "ipython",
    "version": 3
   },
   "file_extension": ".py",
   "mimetype": "text/x-python",
   "name": "python",
   "nbconvert_exporter": "python",
   "pygments_lexer": "ipython3",
   "version": "3.10.1"
  },
  "orig_nbformat": 4
 },
 "nbformat": 4,
 "nbformat_minor": 2
}
