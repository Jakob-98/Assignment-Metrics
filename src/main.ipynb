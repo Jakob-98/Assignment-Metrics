{
 "cells": [
  {
   "cell_type": "code",
   "execution_count": 5,
   "metadata": {},
   "outputs": [],
   "source": [
    "import os\r\n",
    "import json\r\n",
    "import glob\r\n",
    "import csv\r\n",
    "import math\r\n",
    "import pandas as pd\r\n",
    "from io import StringIO\r\n",
    "from pathlib import Path\r\n",
    "from scipy.stats import spearmanr\r\n",
    "import seaborn as sns"
   ]
  },
  {
   "cell_type": "code",
   "execution_count": 6,
   "metadata": {},
   "outputs": [],
   "source": [
    "jars = glob.glob(\"../versions/*/*.jar\")\n",
    "libs = glob.glob(\"../versions/*/lib\")\n",
    "versions =  glob.glob(\"../versions/*\")\n",
    "versions.sort()\n",
    "versions_f = [v.split(\"\\\\\")[-1] for v in versions]"
   ]
  },
  {
   "cell_type": "code",
   "execution_count": 7,
   "metadata": {},
   "outputs": [],
   "source": [
    "layer_ex = dict()\r\n",
    "ckjm_ex = dict()\r\n",
    "for j, l, v, vf in zip(jars, libs, versions, versions_f):\r\n",
    "    process = os.popen(f\"java -jar {Path('../layer_extractor.jar')} {j}\")\r\n",
    "    # layer_ex[vf] = process.read()\r\n",
    "    layers = pd.read_csv(StringIO(process.read()))\r\n",
    "    process.close()\r\n",
    "    if(\"5.5.13.3\" in j):\r\n",
    "        # read csv\r\n",
    "        ckjm_vals = pd.read_csv(Path(\"../versions/5.5.13.3/ck-metrics-5.5.13.3.csv\"))\r\n",
    "    else:\r\n",
    "        process = os.popen(f\"java -jar {Path('../ckjm_adapted.jar')} {j} {l}\")\r\n",
    "        ckjm_vals = pd.read_csv(StringIO(process.read()))\r\n",
    "        process.close()\r\n",
    "    ckjm_ex[vf] = ckjm_vals.merge(layers, on='ClassName')"
   ]
  },
  {
   "cell_type": "code",
   "execution_count": 8,
   "metadata": {},
   "outputs": [
    {
     "data": {
      "text/plain": "[566, 587, 638, 678, 827, 933]"
     },
     "execution_count": 8,
     "metadata": {},
     "output_type": "execute_result"
    }
   ],
   "source": [
    "num_classes = [len(a) for a in ckjm_ex.values()]\n",
    "num_classes"
   ]
  },
  {
   "cell_type": "code",
   "execution_count": 9,
   "metadata": {},
   "outputs": [],
   "source": [
    "def fwbr_n(CBO, DIT, WMC, RFC, LCOM):\n",
    " return -(9.023 * math.log(CBO + 1) + \\\n",
    " 3.945 * math.log(DIT + 1) - \\\n",
    " 0.678 * math.log(WMC + 1) - \\\n",
    " 0.826 * math.log(RFC + 1) - \\\n",
    " 0.378 * math.log(LCOM + 1))"
   ]
  },
  {
   "cell_type": "code",
   "execution_count": 10,
   "metadata": {},
   "outputs": [],
   "source": [
    "cols = ['ClassName', 'WMC', 'DIT', 'NOC', 'CBO', 'RFC', 'LCOM', 'CA', 'NPM', 'Layer']\n",
    "ckjm_dict = {k.split('/')[-1]:v for k, v in ckjm_ex.items()}"
   ]
  },
  {
   "cell_type": "code",
   "execution_count": 11,
   "metadata": {},
   "outputs": [
    {
     "name": "stdout",
     "output_type": "stream",
     "text": [
      "5.0.6, 566\n",
      "5.1.3, 587\n",
      "5.2.1, 638\n",
      "5.3.4, 678\n",
      "5.4.5, 827\n",
      "5.5.13.3, 933\n"
     ]
    }
   ],
   "source": [
    "# print(ckjm_dict)\n",
    "for x in ckjm_dict.keys():\n",
    "    print(f\"{x}, {len(ckjm_dict[x])}\")"
   ]
  },
  {
   "cell_type": "code",
   "execution_count": 12,
   "metadata": {},
   "outputs": [
    {
     "name": "stdout",
     "output_type": "stream",
     "text": [
      "versie 5.0.6\n",
      "0.0 - 176.0\n",
      "1.0 - 6.0\n",
      "0.0 - 42.0\n",
      "0.0 - 86.0\n",
      "0.0 - 436.0\n",
      "0.0 - 9082.0\n",
      "0.0 - 151.0\n",
      "0.0 - 158.0\n",
      "0.0 - 13.0\n",
      "versie 5.1.3\n",
      "0.0 - 176.0\n",
      "1.0 - 6.0\n",
      "0.0 - 31.0\n",
      "0.0 - 86.0\n",
      "0.0 - 438.0\n",
      "0.0 - 9533.0\n",
      "0.0 - 150.0\n",
      "0.0 - 158.0\n",
      "0.0 - 12.0\n",
      "versie 5.2.1\n",
      "0.0 - 181.0\n",
      "1.0 - 6.0\n",
      "0.0 - 31.0\n",
      "0.0 - 86.0\n",
      "0.0 - 438.0\n",
      "0.0 - 9533.0\n",
      "0.0 - 157.0\n",
      "0.0 - 163.0\n",
      "0.0 - 12.0\n",
      "versie 5.3.4\n",
      "0.0 - 195.0\n",
      "1.0 - 6.0\n",
      "0.0 - 32.0\n",
      "0.0 - 89.0\n",
      "0.0 - 455.0\n",
      "0.0 - 11261.0\n",
      "0.0 - 160.0\n",
      "0.0 - 164.0\n",
      "0.0 - 12.0\n",
      "versie 5.4.5\n",
      "0.0 - 208.0\n",
      "1.0 - 6.0\n",
      "0.0 - 34.0\n",
      "0.0 - 94.0\n",
      "0.0 - 499.0\n",
      "0.0 - 12393.0\n",
      "0.0 - 182.0\n",
      "0.0 - 170.0\n",
      "0.0 - 17.0\n",
      "versie 5.5.13.3\n",
      "0.0 - 249.0\n",
      "1.0 - 6.0\n",
      "0.0 - 34.0\n",
      "0.0 - 102.0\n",
      "0.0 - 561.0\n",
      "0.0 - 17152.0\n",
      "0.0 - 188.0\n",
      "0.0 - 211.0\n",
      "0.0 - 18.0\n"
     ]
    }
   ],
   "source": [
    "for version in ckjm_dict:\n",
    "    print(f\"versie {version}\")\n",
    "    for metric in ckjm_dict[version].drop('ClassName', axis=1):\n",
    "        # print(metric)\n",
    "        print(f\"{ckjm_dict[version][metric].astype('float64').min()} - {ckjm_dict[version][metric].astype('float64').max()}\")\n",
    "        # print(version, metric)"
   ]
  },
  {
   "cell_type": "code",
   "execution_count": 13,
   "metadata": {},
   "outputs": [],
   "source": [
    "def fwbr_n(CBO, DIT, WMC, RFC, LCOM):\n",
    " return -(9.023 * math.log(CBO + 1) + \\\n",
    " 3.945 * math.log(DIT + 1) - \\\n",
    " 0.678 * math.log(WMC + 1) - \\\n",
    " 0.826 * math.log(RFC + 1) - \\\n",
    " 0.378 * math.log(LCOM + 1))\n",
    "\n",
    "def apply_fwbr_n(row):\n",
    "    return fwbr_n(row['CBO'], row['DIT'], row['WMC'], row['RFC'], row['LCOM'])\n",
    "\n",
    "def fwbr(CBO, DIT, WMC, RFC, LCOM, NOC):\n",
    " return -(8.753 * math.log(CBO + 1) + \\\n",
    " 2.505 * math.log(DIT + 1) - \\\n",
    " 1.922* math.log(WMC + 1) - \\\n",
    " 0.892 * math.log(RFC + 1) - \\\n",
    " 0.399 * math.log(LCOM + 1) - \\\n",
    " 1.080 * math.log(NOC + 1))\n",
    "\n",
    "def apply_fwbr(row):\n",
    "    return fwbr(row['CBO'], row['DIT'], row['WMC'], row['RFC'], row['LCOM'], row['NOC'])\n",
    "\n",
    "\n",
    "for version in ckjm_dict:\n",
    "    for metric in ['WMC', 'DIT', 'NOC', 'CBO', 'RFC', 'LCOM', 'CA', 'NPM']:\n",
    "        ckjm_dict[version][metric] = pd.to_numeric(ckjm_dict[version][metric])\n",
    "    ckjm_dict[version]['fwbr_n'] = ckjm_dict[version].apply(lambda row: apply_fwbr_n(row), axis=1)\n",
    "    ckjm_dict[version]['fwbr'] = ckjm_dict[version].apply(lambda row: apply_fwbr(row), axis=1)\n",
    "\n"
   ]
  },
  {
   "cell_type": "code",
   "execution_count": 14,
   "metadata": {},
   "outputs": [
    {
     "name": "stdout",
     "output_type": "stream",
     "text": [
      "5.0.6\n",
      "             fwbr      fwbr_n\n",
      "count  566.000000  566.000000\n",
      "mean    -8.294404  -12.815970\n",
      "std      6.775526    7.546961\n",
      "min    -24.003512  -32.788817\n",
      "25%    -13.682906  -18.262294\n",
      "50%     -8.429503  -13.113511\n",
      "75%     -3.447274   -7.611325\n",
      "max      7.567341    2.876432\n",
      "5.1.3\n",
      "             fwbr      fwbr_n\n",
      "count  587.000000  587.000000\n",
      "mean    -8.173623  -12.635670\n",
      "std      6.814923    7.581979\n",
      "min    -24.003512  -32.747512\n",
      "25%    -13.573729  -18.052383\n",
      "50%     -8.259729  -12.870994\n",
      "75%     -3.228774   -7.283921\n",
      "max      7.567341    2.876432\n",
      "5.2.1\n",
      "             fwbr      fwbr_n\n",
      "count  638.000000  638.000000\n",
      "mean    -8.034669  -12.545637\n",
      "std      6.799050    7.527440\n",
      "min    -24.003512  -32.747512\n",
      "25%    -13.482771  -17.867010\n",
      "50%     -8.243284  -12.929859\n",
      "75%     -3.228774   -7.171107\n",
      "max      7.567341    2.888269\n",
      "5.3.4\n",
      "             fwbr      fwbr_n\n",
      "count  678.000000  678.000000\n",
      "mean    -7.959590  -12.419324\n",
      "std      6.842015    7.587099\n",
      "min    -24.172348  -32.915462\n",
      "25%    -13.342388  -17.708785\n",
      "50%     -7.984426  -12.658591\n",
      "75%     -3.228774   -7.171107\n",
      "max      7.567341    2.888269\n",
      "5.4.5\n",
      "             fwbr      fwbr_n\n",
      "count  827.000000  827.000000\n",
      "mean    -7.568056  -11.974985\n",
      "std      6.865234    7.626346\n",
      "min    -24.954791  -33.285971\n",
      "25%    -13.114350  -17.469137\n",
      "50%     -7.357061  -11.977501\n",
      "75%     -2.400941   -6.547196\n",
      "max      9.097251    3.937465\n",
      "5.5.13.3\n",
      "             fwbr      fwbr_n\n",
      "count  933.000000  933.000000\n",
      "mean    -7.565399  -11.927395\n",
      "std      6.741344    7.504155\n",
      "min    -26.498380  -34.032410\n",
      "25%    -12.766396  -17.221164\n",
      "50%     -7.281030  -11.910540\n",
      "75%     -2.725063   -6.823018\n",
      "max      9.097251    3.937465\n"
     ]
    }
   ],
   "source": [
    "for x in ckjm_dict.keys():\r\n",
    "    print(x)\r\n",
    "    print(ckjm_dict[x][['fwbr', 'fwbr_n']].describe())"
   ]
  },
  {
   "cell_type": "code",
   "execution_count": 15,
   "metadata": {},
   "outputs": [
    {
     "data": {
      "image/png": "[encoded data removed]",
      "text/plain": "<Figure size 432x288 with 1 Axes>"
     },
     "metadata": {
      "needs_background": "light"
     },
     "output_type": "display_data"
    },
    {
     "data": {
      "image/png": "[encoded data removed]",
      "text/plain": "<Figure size 432x288 with 1 Axes>"
     },
     "metadata": {
      "needs_background": "light"
     },
     "output_type": "display_data"
    },
    {
     "data": {
      "image/png": "[encoded data removed]",
      "text/plain": "<Figure size 432x288 with 1 Axes>"
     },
     "metadata": {
      "needs_background": "light"
     },
     "output_type": "display_data"
    },
    {
     "data": {
      "image/png": "[encoded data removed]",
      "text/plain": "<Figure size 432x288 with 1 Axes>"
     },
     "metadata": {
      "needs_background": "light"
     },
     "output_type": "display_data"
    },
    {
     "data": {
      "image/png": "[encoded data removed]",
      "text/plain": "<Figure size 432x288 with 1 Axes>"
     },
     "metadata": {
      "needs_background": "light"
     },
     "output_type": "display_data"
    },
    {
     "data": {
      "image/png": "[encoded data removed]",
      "text/plain": "<Figure size 432x288 with 1 Axes>"
     },
     "metadata": {
      "needs_background": "light"
     },
     "output_type": "display_data"
    }
   ],
   "source": [
    "for x in ckjm_dict:\n",
    "   ckjm_dict[x]\n",
    "   ckjm_dict[x][['layer', 'fwbr', 'fwbr_n']].plot(kind='hist')\n",
    "    "
   ]
  },
  {
   "cell_type": "code",
   "execution_count": 16,
   "metadata": {},
   "outputs": [
    {
     "name": "stdout",
     "output_type": "stream",
     "text": [
      "version, rho, p\n",
      "5.0.6, -0.4340689492087184, 2.0766686364108052e-27\n",
      "5.1.3, -0.42371822177378177, 5.623657431097273e-27\n",
      "5.2.1, -0.4484093704117223, 6.971263385015753e-33\n",
      "5.3.4, -0.47454108374820425, 2.2723902143425045e-39\n",
      "5.4.5, -0.5725280889098705, 3.3957603624454266e-73\n",
      "5.5.13.3, -0.547426411536562, 4.620876328706001e-74\n"
     ]
    }
   ],
   "source": [
    "# question 4, spearman\n",
    "print('version, rho, p')\n",
    "for x in ckjm_dict:\n",
    "    rho, p = spearmanr(ckjm_dict[x]['layer'], ckjm_dict[x]['fwbr'])\n",
    "    print(f\"{x}, {rho}, {p}\")"
   ]
  },
  {
   "cell_type": "code",
   "execution_count": 17,
   "metadata": {},
   "outputs": [
    {
     "data": {
      "text/plain": "<matplotlib.axes._subplots.AxesSubplot at 0x28f987505c8>"
     },
     "execution_count": 17,
     "metadata": {},
     "output_type": "execute_result"
    },
    {
     "data": {
      "image/png": "[encoded data removed]",
      "text/plain": "<Figure size 432x288 with 2 Axes>"
     },
     "metadata": {
      "needs_background": "light"
     },
     "output_type": "display_data"
    }
   ],
   "source": [
    "\n",
    "corr = ckjm_dict[x][['layer', 'fwbr', 'fwbr_n']].corr(method = 'spearman')\n",
    "\n",
    "sns.heatmap(corr, annot = True)"
   ]
  },
  {
   "cell_type": "markdown",
   "metadata": {},
   "source": [
    "# NEW\r\n"
   ]
  },
  {
   "cell_type": "code",
   "execution_count": 19,
   "metadata": {},
   "outputs": [
    {
     "data": {
      "text/html": "<div>\n<style scoped>\n    .dataframe tbody tr th:only-of-type {\n        vertical-align: middle;\n    }\n\n    .dataframe tbody tr th {\n        vertical-align: top;\n    }\n\n    .dataframe thead th {\n        text-align: right;\n    }\n</style>\n<table border=\"1\" class=\"dataframe\">\n  <thead>\n    <tr style=\"text-align: right;\">\n      <th></th>\n      <th>ClassName</th>\n      <th>WMC</th>\n      <th>DIT</th>\n      <th>NOC</th>\n      <th>CBO</th>\n      <th>RFC</th>\n      <th>LCOM</th>\n      <th>CA</th>\n      <th>NPM</th>\n      <th>layer</th>\n      <th>fwbr_n</th>\n      <th>fwbr</th>\n    </tr>\n  </thead>\n  <tbody>\n    <tr>\n      <th>0</th>\n      <td>com.itextpdf.text.ExceptionConverter</td>\n      <td>10</td>\n      <td>4</td>\n      <td>0</td>\n      <td>0</td>\n      <td>21</td>\n      <td>3</td>\n      <td>68</td>\n      <td>10</td>\n      <td>0</td>\n      <td>-1.646239</td>\n      <td>3.887454</td>\n    </tr>\n    <tr>\n      <th>1</th>\n      <td>com.itextpdf.text.pdf.qrcode.Version</td>\n      <td>13</td>\n      <td>1</td>\n      <td>0</td>\n      <td>5</td>\n      <td>27</td>\n      <td>46</td>\n      <td>2</td>\n      <td>8</td>\n      <td>2</td>\n      <td>-12.904474</td>\n      <td>-7.838801</td>\n    </tr>\n    <tr>\n      <th>2</th>\n      <td>com.itextpdf.text.pdf.codec.wmf.MetaObject</td>\n      <td>3</td>\n      <td>1</td>\n      <td>3</td>\n      <td>0</td>\n      <td>4</td>\n      <td>0</td>\n      <td>5</td>\n      <td>3</td>\n      <td>0</td>\n      <td>-0.465162</td>\n      <td>3.860941</td>\n    </tr>\n    <tr>\n      <th>3</th>\n      <td>com.itextpdf.text.pdf.codec.TiffWriter$FieldImage</td>\n      <td>1</td>\n      <td>2</td>\n      <td>0</td>\n      <td>1</td>\n      <td>2</td>\n      <td>0</td>\n      <td>1</td>\n      <td>1</td>\n      <td>2</td>\n      <td>-9.210885</td>\n      <td>-6.506950</td>\n    </tr>\n    <tr>\n      <th>4</th>\n      <td>com.itextpdf.text.pdf.parser.LocationTextExtra...</td>\n      <td>8</td>\n      <td>1</td>\n      <td>0</td>\n      <td>6</td>\n      <td>31</td>\n      <td>14</td>\n      <td>2</td>\n      <td>6</td>\n      <td>11</td>\n      <td>-14.916354</td>\n      <td>-10.373871</td>\n    </tr>\n    <tr>\n      <th>...</th>\n      <td>...</td>\n      <td>...</td>\n      <td>...</td>\n      <td>...</td>\n      <td>...</td>\n      <td>...</td>\n      <td>...</td>\n      <td>...</td>\n      <td>...</td>\n      <td>...</td>\n      <td>...</td>\n      <td>...</td>\n    </tr>\n    <tr>\n      <th>561</th>\n      <td>com.itextpdf.text.pdf.ExtendedColor</td>\n      <td>6</td>\n      <td>2</td>\n      <td>5</td>\n      <td>1</td>\n      <td>9</td>\n      <td>3</td>\n      <td>12</td>\n      <td>5</td>\n      <td>3</td>\n      <td>-6.843011</td>\n      <td>-0.536964</td>\n    </tr>\n    <tr>\n      <th>562</th>\n      <td>com.itextpdf.text.pdf.parser.PdfContentStreamP...</td>\n      <td>3</td>\n      <td>1</td>\n      <td>0</td>\n      <td>6</td>\n      <td>7</td>\n      <td>3</td>\n      <td>1</td>\n      <td>1</td>\n      <td>10</td>\n      <td>-17.110867</td>\n      <td>-13.696434</td>\n    </tr>\n    <tr>\n      <th>563</th>\n      <td>com.itextpdf.text.pdf.PdfWriter$PdfBody$PdfCro...</td>\n      <td>10</td>\n      <td>1</td>\n      <td>0</td>\n      <td>1</td>\n      <td>22</td>\n      <td>0</td>\n      <td>1</td>\n      <td>6</td>\n      <td>3</td>\n      <td>-4.773041</td>\n      <td>-0.397835</td>\n    </tr>\n    <tr>\n      <th>564</th>\n      <td>com.itextpdf.text.pdf.PdfContentByte</td>\n      <td>176</td>\n      <td>1</td>\n      <td>4</td>\n      <td>53</td>\n      <td>398</td>\n      <td>5014</td>\n      <td>53</td>\n      <td>158</td>\n      <td>3</td>\n      <td>-27.050126</td>\n      <td>-16.223449</td>\n    </tr>\n    <tr>\n      <th>565</th>\n      <td>com.itextpdf.text.pdf.codec.wmf.MetaState</td>\n      <td>36</td>\n      <td>1</td>\n      <td>0</td>\n      <td>7</td>\n      <td>69</td>\n      <td>422</td>\n      <td>2</td>\n      <td>36</td>\n      <td>3</td>\n      <td>-13.253901</td>\n      <td>-6.794942</td>\n    </tr>\n  </tbody>\n</table>\n<p>566 rows × 12 columns</p>\n</div>",
      "text/plain": "                                             ClassName  WMC  DIT  NOC  CBO  \\\n0                 com.itextpdf.text.ExceptionConverter   10    4    0    0   \n1                 com.itextpdf.text.pdf.qrcode.Version   13    1    0    5   \n2           com.itextpdf.text.pdf.codec.wmf.MetaObject    3    1    3    0   \n3    com.itextpdf.text.pdf.codec.TiffWriter$FieldImage    1    2    0    1   \n4    com.itextpdf.text.pdf.parser.LocationTextExtra...    8    1    0    6   \n..                                                 ...  ...  ...  ...  ...   \n561                com.itextpdf.text.pdf.ExtendedColor    6    2    5    1   \n562  com.itextpdf.text.pdf.parser.PdfContentStreamP...    3    1    0    6   \n563  com.itextpdf.text.pdf.PdfWriter$PdfBody$PdfCro...   10    1    0    1   \n564               com.itextpdf.text.pdf.PdfContentByte  176    1    4   53   \n565          com.itextpdf.text.pdf.codec.wmf.MetaState   36    1    0    7   \n\n     RFC  LCOM  CA  NPM  layer     fwbr_n       fwbr  \n0     21     3  68   10      0  -1.646239   3.887454  \n1     27    46   2    8      2 -12.904474  -7.838801  \n2      4     0   5    3      0  -0.465162   3.860941  \n3      2     0   1    1      2  -9.210885  -6.506950  \n4     31    14   2    6     11 -14.916354 -10.373871  \n..   ...   ...  ..  ...    ...        ...        ...  \n561    9     3  12    5      3  -6.843011  -0.536964  \n562    7     3   1    1     10 -17.110867 -13.696434  \n563   22     0   1    6      3  -4.773041  -0.397835  \n564  398  5014  53  158      3 -27.050126 -16.223449  \n565   69   422   2   36      3 -13.253901  -6.794942  \n\n[566 rows x 12 columns]"
     },
     "execution_count": 19,
     "metadata": {},
     "output_type": "execute_result"
    }
   ],
   "source": [
    "ckjm_dict['5.0.6']"
   ]
  },
  {
   "cell_type": "code",
   "execution_count": 38,
   "metadata": {},
   "outputs": [
    {
     "name": "stdout",
     "output_type": "stream",
     "text": [
      "Previous version \t Next version \t Number of classes that changed architectural layers\n",
      "5.0.6 \t 5.1.3 \t 471\n",
      "5.1.3 \t 5.2.1 \t 24\n",
      "5.2.1 \t 5.3.4 \t 33\n",
      "5.3.4 \t 5.4.5 \t 522\n",
      "5.4.5 \t 5.5.13.3 \t 110\n"
     ]
    }
   ],
   "source": [
    "# Question 6\r\n",
    "\r\n",
    "print(\"Previous version \\t Next version \\t Number of classes that changed architectural layers\")\r\n",
    "for i in range(len(versions_f)-1):\r\n",
    "    v1, v2 = versions_f[i], versions_f[i+1]\r\n",
    "    df1, df2 = ckjm_dict[v1], ckjm_dict[v2]\r\n",
    "    changecount = 0\r\n",
    "    for idx, row in df1.iterrows():\r\n",
    "        layer1 = int(row['layer'])\r\n",
    "        query = df2.loc[df2['ClassName'] == row['ClassName']]\r\n",
    "        layer2 = '-999' if query.empty else int(query['layer'])\r\n",
    "        if layer1 != layer2:\r\n",
    "            changecount += 1\r\n",
    "    print(v1, \"\\t\", v2, \"\\t\", changecount)\r\n"
   ]
  },
  {
   "cell_type": "code",
   "execution_count": null,
   "metadata": {},
   "outputs": [],
   "source": []
  },
  {
   "cell_type": "code",
   "execution_count": null,
   "metadata": {},
   "outputs": [],
   "source": []
  }
 ],
 "metadata": {
  "interpreter": {
   "hash": "21eaef655b2c09950541250f074b3bed15f6484116d3ae43e9be17c5f7ce2ad8"
  },
  "kernelspec": {
   "display_name": "Python 3.7.4 64-bit ('conenv': conda)",
   "name": "python374jvsc74a57bd07cfa22ccfd11e8d1fcdef87f1aa1d53c4976affbfbe0a5a4c3d1565d7c774621"
  },
  "language_info": {
   "codemirror_mode": {
    "name": "ipython",
    "version": 3
   },
   "file_extension": ".py",
   "mimetype": "text/x-python",
   "name": "python",
   "nbconvert_exporter": "python",
   "pygments_lexer": "ipython3",
   "version": "3.7.4"
  },
  "orig_nbformat": 4
 },
 "nbformat": 4,
 "nbformat_minor": 2
}